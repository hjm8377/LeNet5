{
 "cells": [
  {
   "cell_type": "code",
   "execution_count": 1,
   "id": "32cd5b3e",
   "metadata": {},
   "outputs": [],
   "source": [
    "import LeNet5\n",
    "import torch\n",
    "import torch.nn as nn\n",
    "import torch.optim as optim\n",
    "import torch.nn.functional as F\n",
    "import torchvision\n",
    "import torchvision.datasets as datasets\n",
    "import torchvision.transforms as transforms\n",
    "import matplotlib.pyplot as plt"
   ]
  },
  {
   "cell_type": "code",
   "execution_count": 2,
   "id": "59ee4363",
   "metadata": {},
   "outputs": [],
   "source": [
    "device = 'cuda:0' if torch.cuda.is_available() else 'cpu'\n",
    "batch_size = 256\n",
    "\n",
    "# 데이터 전처리\n",
    "# MNIST 데이터 가져오기\n",
    "mnist_train = datasets.MNIST(root='../data/MNIST/train',\n",
    "                             train=True,\n",
    "                             transform=transforms.Compose([\n",
    "                                 transforms.Resize((32, 32)),\n",
    "                                 transforms.ToTensor(),\n",
    "                                 transforms.Normalize(0.5, 0.5),\n",
    "                             ]),\n",
    "                             download=True)\n",
    "mnist_test = datasets.MNIST(root='../data/MNIST/test',\n",
    "                            train=False,\n",
    "                            transform=transforms.Compose([\n",
    "                                transforms.Resize((32, 32)),\n",
    "                                transforms.ToTensor(),\n",
    "                                transforms.Normalize(0.5, 0.5),\n",
    "                            ]),\n",
    "                            download=True)\n",
    "\n",
    "# dataloader 만들기\n",
    "train_loader = torch.utils.data.DataLoader(dataset=mnist_train,\n",
    "                                           batch_size=batch_size,\n",
    "                                           shuffle=True)\n",
    "test_loader = torch.utils.data.DataLoader(dataset=mnist_test,\n",
    "                                          batch_size=batch_size,\n",
    "                                          shuffle=True)"
   ]
  },
  {
   "cell_type": "code",
   "execution_count": 3,
   "id": "82df3589",
   "metadata": {},
   "outputs": [
    {
     "name": "stdout",
     "output_type": "stream",
     "text": [
      "epoch : 1/10, train_loss : 1.67806489, train_acc : 0.83\n",
      "epoch : 2/10, train_loss : 1.52183892, train_acc : 0.95\n",
      "epoch : 3/10, train_loss : 1.50058890, train_acc : 0.97\n",
      "epoch : 4/10, train_loss : 1.49184472, train_acc : 0.98\n",
      "epoch : 5/10, train_loss : 1.48636935, train_acc : 0.98\n",
      "epoch : 6/10, train_loss : 1.48316035, train_acc : 0.98\n",
      "epoch : 7/10, train_loss : 1.48098443, train_acc : 0.99\n",
      "epoch : 8/10, train_loss : 1.47831944, train_acc : 0.99\n",
      "epoch : 9/10, train_loss : 1.47685163, train_acc : 0.99\n",
      "epoch : 10/10, train_loss : 1.47622492, train_acc : 0.99\n"
     ]
    }
   ],
   "source": [
    "model = LeNet5.LeNet5().to(device)\n",
    "loss_fn = nn.CrossEntropyLoss()\n",
    "optimizer = optim.Adam(model.parameters(), lr=0.001)\n",
    "\n",
    "# 훈련\n",
    "model.train()\n",
    "train_loss_list = []\n",
    "train_accuracy_list = []\n",
    "\n",
    "epochs = 10\n",
    "for epoch in range(epochs):\n",
    "    train_loss = 0\n",
    "    train_accuracy = 0\n",
    "    for batch_idx, (data, target) in enumerate(train_loader):\n",
    "        data = data.to(device)\n",
    "        target = target.to(device)\n",
    "\n",
    "        # 순전파\n",
    "        y_pred = model(data)\n",
    "        loss = loss_fn(y_pred, target)\n",
    "\n",
    "        # 역전파\n",
    "        optimizer.zero_grad()\n",
    "        loss.backward()\n",
    "        optimizer.step()\n",
    "\n",
    "        train_loss += loss.item()\n",
    "        train_accuracy += (torch.argmax(y_pred, dim=1) == target).sum().item()\n",
    "\n",
    "    train_loss /= len(train_loader.dataset)\n",
    "    train_loss *= 256\n",
    "    train_loss_list.append(train_loss)\n",
    "\n",
    "    train_accuracy /= len(train_loader.dataset)\n",
    "    train_accuracy_list.append(train_accuracy)\n",
    "\n",
    "    if epoch % 1 == 0:\n",
    "        print('epoch : {}/{}, train_loss : {:.8f}, train_acc : {:.2f}'\n",
    "              .format(epoch + 1, epochs, train_loss, train_accuracy))"
   ]
  },
  {
   "cell_type": "code",
   "execution_count": 4,
   "id": "7fb13a67",
   "metadata": {},
   "outputs": [],
   "source": [
    "# 모델 저장\n",
    "torch.save(model, './lenet5.pt')"
   ]
  },
  {
   "cell_type": "code",
   "execution_count": 5,
   "id": "4292abd8",
   "metadata": {},
   "outputs": [
    {
     "name": "stdout",
     "output_type": "stream",
     "text": [
      "accuracy: 0.9864\n"
     ]
    }
   ],
   "source": [
    "# 평가\n",
    "acc = 0\n",
    "with torch.no_grad():\n",
    "    model.eval()\n",
    "    for data, target in test_loader:\n",
    "        # target = F.one_hot(target)\n",
    "\n",
    "        data = data.to(device)\n",
    "        target = target.to(device)\n",
    "\n",
    "        y_pred = model(data)\n",
    "\n",
    "        acc += (torch.argmax(y_pred, dim=1) == target).sum().item()\n",
    "\n",
    "    acc /= len(test_loader.dataset)\n",
    "print('accuracy: {:.4f}'.format(acc))"
   ]
  },
  {
   "cell_type": "code",
   "execution_count": 6,
   "id": "aeeaa652",
   "metadata": {},
   "outputs": [
    {
     "name": "stdout",
     "output_type": "stream",
     "text": [
      "label: 5 4 6 8 \n",
      "predict: 5 4 6 8 \n"
     ]
    },
    {
     "data": {
      "image/png": "[encoded data removed]",
      "text/plain": [
       "<Figure size 1000x300 with 4 Axes>"
      ]
     },
     "metadata": {},
     "output_type": "display_data"
    },
    {
     "data": {
      "text/plain": [
       "LeNet5(\n",
       "  (C1): Conv2d(1, 6, kernel_size=(5, 5), stride=(1, 1))\n",
       "  (tanh1): Tanh()\n",
       "  (S2): AvgPool2d(kernel_size=2, stride=2, padding=0)\n",
       "  (C3): Conv2d(6, 16, kernel_size=(5, 5), stride=(1, 1))\n",
       "  (tanh2): Tanh()\n",
       "  (S4): AvgPool2d(kernel_size=2, stride=2, padding=0)\n",
       "  (C5): Conv2d(16, 120, kernel_size=(5, 5), stride=(1, 1))\n",
       "  (tanh3): Tanh()\n",
       "  (flatten): Flatten(start_dim=1, end_dim=-1)\n",
       "  (F6): Linear(in_features=120, out_features=84, bias=True)\n",
       "  (tanh4): Tanh()\n",
       "  (OutputLayer): Linear(in_features=84, out_features=10, bias=True)\n",
       "  (softmax): Softmax(dim=1)\n",
       ")"
      ]
     },
     "execution_count": 6,
     "metadata": {},
     "output_type": "execute_result"
    }
   ],
   "source": [
    "image, label = next(iter(test_loader))\n",
    "label_str = ''\n",
    "pred_label_str = ''\n",
    "plt.figure(figsize=(10, 3))\n",
    "for i in range(4):\n",
    "    plt.subplot(1, 4, i + 1)\n",
    "\n",
    "    img = image[i][0]\n",
    "    plt.imshow(img, 'gray')\n",
    "    y_pred = model(image.to(device))\n",
    "    pred_label = torch.argmax(y_pred, dim=1)\n",
    "\n",
    "    label_str += str(label[i].item()) + ' '\n",
    "    pred_label_str += str(pred_label[i].item()) + ' '\n",
    "print('label: {}\\npredict: {}'.format(label_str, pred_label_str))\n",
    "plt.show()\n",
    "\n",
    "model.train()"
   ]
  },
  {
   "cell_type": "code",
   "execution_count": 7,
   "id": "4f5e86d1",
   "metadata": {},
   "outputs": [
    {
     "data": {
      "image/png": "[encoded data removed]",
      "text/plain": [
       "<Figure size 640x480 with 1 Axes>"
      ]
     },
     "metadata": {},
     "output_type": "display_data"
    }
   ],
   "source": [
    "plt.plot(train_loss_list)\n",
    "plt.show()"
   ]
  },
  {
   "cell_type": "code",
   "execution_count": null,
   "id": "1f20c207",
   "metadata": {},
   "outputs": [],
   "source": []
  }
 ],
 "metadata": {
  "kernelspec": {
   "display_name": "torch",
   "language": "python",
   "name": "deeplearning"
  },
  "language_info": {
   "codemirror_mode": {
    "name": "ipython",
    "version": 3
   },
   "file_extension": ".py",
   "mimetype": "text/x-python",
   "name": "python",
   "nbconvert_exporter": "python",
   "pygments_lexer": "ipython3",
   "version": "3.11.2"
  }
 },
 "nbformat": 4,
 "nbformat_minor": 5
}
